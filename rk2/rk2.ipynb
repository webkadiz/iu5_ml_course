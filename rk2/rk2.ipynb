{
 "cells": [
  {
   "cell_type": "markdown",
   "id": "546ff1bc-7daa-4357-b999-5acbe30e93c6",
   "metadata": {},
   "source": [
    "### Ткаченко Владислав Львович ИУ5-62Б РК2 Вариант 18"
   ]
  },
  {
   "cell_type": "code",
   "execution_count": null,
   "id": "cc7c27eb-8192-4d22-ba43-4ca8448f53a6",
   "metadata": {},
   "outputs": [],
   "source": [
    "import pandas as pd\n",
    "from sklearn.model_selection import train_test_split\n",
    "from sklearn.preprocessing import LabelEncoder\n",
    "from sklearn.preprocessing import StandardScaler\n",
    "from sklearn.ensemble import RandomForestClassifier\n",
    "from sklearn import svm\n",
    "from sklearn.metrics import classification_report\n",
    "from sklearn.metrics import confusion_matrix\n",
    "\n",
    "df = pd.read_csv('HRDataset_v14.csv')"
   ]
  },
  {
   "cell_type": "code",
   "execution_count": null,
   "id": "c0951459-2ec9-4e4e-92b8-1d0bd0abbfeb",
   "metadata": {},
   "outputs": [],
   "source": [
    "df.head()"
   ]
  },
  {
   "cell_type": "code",
   "execution_count": null,
   "id": "a1cfac68-2ee2-4732-9c87-7ef188bba517",
   "metadata": {},
   "outputs": [],
   "source": [
    "newDf = pd.DataFrame()"
   ]
  },
  {
   "cell_type": "code",
   "execution_count": null,
   "id": "7e01ff76-9c50-4f18-874a-e52c8f9531cd",
   "metadata": {},
   "outputs": [],
   "source": [
    "df.info()"
   ]
  },
  {
   "cell_type": "code",
   "execution_count": null,
   "id": "88798989-9667-4315-813d-382063eaf7f0",
   "metadata": {},
   "outputs": [],
   "source": [
    "newDf['married'] = df['MarriedID']"
   ]
  },
  {
   "cell_type": "code",
   "execution_count": null,
   "id": "92b06443-4e4c-4b28-abd4-49a5c9126534",
   "metadata": {},
   "outputs": [],
   "source": [
    "newDf['salary'] = df['Salary']"
   ]
  },
  {
   "cell_type": "code",
   "execution_count": null,
   "id": "d09c6635-9257-4a4f-b266-ccac301a006c",
   "metadata": {},
   "outputs": [],
   "source": [
    "newDf['hispanicLatino'] = (df[\"HispanicLatino\"] == 'Yes').astype(int)"
   ]
  },
  {
   "cell_type": "code",
   "execution_count": null,
   "id": "c2332370-bc3a-4b43-8f0b-b6bc423cb23a",
   "metadata": {},
   "outputs": [],
   "source": [
    "newDf['isWhite'] = (df[\"RaceDesc\"] == 'White').astype(int)"
   ]
  },
  {
   "cell_type": "code",
   "execution_count": null,
   "id": "341ad989-584b-432b-a0e2-f2a84fcd7a00",
   "metadata": {},
   "outputs": [],
   "source": [
    "newDf['isBlack'] = (df[\"RaceDesc\"] == 'Black or African American').astype(int)"
   ]
  },
  {
   "cell_type": "code",
   "execution_count": 22,
   "id": "66dd6b0d-996f-42e6-bb7b-581616815ef0",
   "metadata": {},
   "outputs": [],
   "source": [
    "newDf['isMoreRaces'] = (df[\"RaceDesc\"] == 'Two or more races').astype(int)"
   ]
  },
  {
   "cell_type": "code",
   "execution_count": 23,
   "id": "b2d6bc32-9b91-4ea2-bec5-da9a906761b4",
   "metadata": {},
   "outputs": [],
   "source": [
    "newDf['satisfaction'] = df['EmpSatisfaction']"
   ]
  },
  {
   "cell_type": "code",
   "execution_count": 24,
   "id": "26638e68-d3d0-4de1-8c21-6abf7b5a42bf",
   "metadata": {},
   "outputs": [],
   "source": [
    "newDf['engagementSurvey'] = df['EngagementSurvey']"
   ]
  },
  {
   "cell_type": "code",
   "execution_count": 25,
   "id": "fcc61e54-1744-47dd-b022-c1da95193230",
   "metadata": {},
   "outputs": [],
   "source": [
    "newDf['gender'] = (df[\"GenderID\"] == 0).astype(int)"
   ]
  },
  {
   "cell_type": "code",
   "execution_count": 26,
   "id": "e650e48f-0447-4dc9-ab5e-095ad1f6eb44",
   "metadata": {},
   "outputs": [
    {
     "data": {
      "text/html": [
       "<div>\n",
       "<style scoped>\n",
       "    .dataframe tbody tr th:only-of-type {\n",
       "        vertical-align: middle;\n",
       "    }\n",
       "\n",
       "    .dataframe tbody tr th {\n",
       "        vertical-align: top;\n",
       "    }\n",
       "\n",
       "    .dataframe thead th {\n",
       "        text-align: right;\n",
       "    }\n",
       "</style>\n",
       "<table border=\"1\" class=\"dataframe\">\n",
       "  <thead>\n",
       "    <tr style=\"text-align: right;\">\n",
       "      <th></th>\n",
       "      <th>married</th>\n",
       "      <th>salary</th>\n",
       "      <th>hispanicLatino</th>\n",
       "      <th>isWhite</th>\n",
       "      <th>isBlack</th>\n",
       "      <th>isMoreRaces</th>\n",
       "      <th>satisfaction</th>\n",
       "      <th>engagementSurvey</th>\n",
       "      <th>gender</th>\n",
       "    </tr>\n",
       "  </thead>\n",
       "  <tbody>\n",
       "    <tr>\n",
       "      <th>count</th>\n",
       "      <td>311.000000</td>\n",
       "      <td>311.000000</td>\n",
       "      <td>311.000000</td>\n",
       "      <td>311.000000</td>\n",
       "      <td>311.000000</td>\n",
       "      <td>311.00000</td>\n",
       "      <td>311.000000</td>\n",
       "      <td>311.000000</td>\n",
       "      <td>311.000000</td>\n",
       "    </tr>\n",
       "    <tr>\n",
       "      <th>mean</th>\n",
       "      <td>0.398714</td>\n",
       "      <td>69020.684887</td>\n",
       "      <td>0.086817</td>\n",
       "      <td>0.601286</td>\n",
       "      <td>0.257235</td>\n",
       "      <td>0.03537</td>\n",
       "      <td>3.890675</td>\n",
       "      <td>4.110000</td>\n",
       "      <td>0.565916</td>\n",
       "    </tr>\n",
       "    <tr>\n",
       "      <th>std</th>\n",
       "      <td>0.490423</td>\n",
       "      <td>25156.636930</td>\n",
       "      <td>0.282020</td>\n",
       "      <td>0.490423</td>\n",
       "      <td>0.437814</td>\n",
       "      <td>0.18501</td>\n",
       "      <td>0.909241</td>\n",
       "      <td>0.789938</td>\n",
       "      <td>0.496435</td>\n",
       "    </tr>\n",
       "    <tr>\n",
       "      <th>min</th>\n",
       "      <td>0.000000</td>\n",
       "      <td>45046.000000</td>\n",
       "      <td>0.000000</td>\n",
       "      <td>0.000000</td>\n",
       "      <td>0.000000</td>\n",
       "      <td>0.00000</td>\n",
       "      <td>1.000000</td>\n",
       "      <td>1.120000</td>\n",
       "      <td>0.000000</td>\n",
       "    </tr>\n",
       "    <tr>\n",
       "      <th>25%</th>\n",
       "      <td>0.000000</td>\n",
       "      <td>55501.500000</td>\n",
       "      <td>0.000000</td>\n",
       "      <td>0.000000</td>\n",
       "      <td>0.000000</td>\n",
       "      <td>0.00000</td>\n",
       "      <td>3.000000</td>\n",
       "      <td>3.690000</td>\n",
       "      <td>0.000000</td>\n",
       "    </tr>\n",
       "    <tr>\n",
       "      <th>50%</th>\n",
       "      <td>0.000000</td>\n",
       "      <td>62810.000000</td>\n",
       "      <td>0.000000</td>\n",
       "      <td>1.000000</td>\n",
       "      <td>0.000000</td>\n",
       "      <td>0.00000</td>\n",
       "      <td>4.000000</td>\n",
       "      <td>4.280000</td>\n",
       "      <td>1.000000</td>\n",
       "    </tr>\n",
       "    <tr>\n",
       "      <th>75%</th>\n",
       "      <td>1.000000</td>\n",
       "      <td>72036.000000</td>\n",
       "      <td>0.000000</td>\n",
       "      <td>1.000000</td>\n",
       "      <td>1.000000</td>\n",
       "      <td>0.00000</td>\n",
       "      <td>5.000000</td>\n",
       "      <td>4.700000</td>\n",
       "      <td>1.000000</td>\n",
       "    </tr>\n",
       "    <tr>\n",
       "      <th>max</th>\n",
       "      <td>1.000000</td>\n",
       "      <td>250000.000000</td>\n",
       "      <td>1.000000</td>\n",
       "      <td>1.000000</td>\n",
       "      <td>1.000000</td>\n",
       "      <td>1.00000</td>\n",
       "      <td>5.000000</td>\n",
       "      <td>5.000000</td>\n",
       "      <td>1.000000</td>\n",
       "    </tr>\n",
       "  </tbody>\n",
       "</table>\n",
       "</div>"
      ],
      "text/plain": [
       "          married         salary  hispanicLatino     isWhite     isBlack  \\\n",
       "count  311.000000     311.000000      311.000000  311.000000  311.000000   \n",
       "mean     0.398714   69020.684887        0.086817    0.601286    0.257235   \n",
       "std      0.490423   25156.636930        0.282020    0.490423    0.437814   \n",
       "min      0.000000   45046.000000        0.000000    0.000000    0.000000   \n",
       "25%      0.000000   55501.500000        0.000000    0.000000    0.000000   \n",
       "50%      0.000000   62810.000000        0.000000    1.000000    0.000000   \n",
       "75%      1.000000   72036.000000        0.000000    1.000000    1.000000   \n",
       "max      1.000000  250000.000000        1.000000    1.000000    1.000000   \n",
       "\n",
       "       isMoreRaces  satisfaction  engagementSurvey      gender  \n",
       "count    311.00000    311.000000        311.000000  311.000000  \n",
       "mean       0.03537      3.890675          4.110000    0.565916  \n",
       "std        0.18501      0.909241          0.789938    0.496435  \n",
       "min        0.00000      1.000000          1.120000    0.000000  \n",
       "25%        0.00000      3.000000          3.690000    0.000000  \n",
       "50%        0.00000      4.000000          4.280000    1.000000  \n",
       "75%        0.00000      5.000000          4.700000    1.000000  \n",
       "max        1.00000      5.000000          5.000000    1.000000  "
      ]
     },
     "execution_count": 26,
     "metadata": {},
     "output_type": "execute_result"
    }
   ],
   "source": [
    "newDf.describe()"
   ]
  },
  {
   "cell_type": "code",
   "execution_count": 27,
   "id": "53bcb262-2492-4ade-b833-14ef5faa220c",
   "metadata": {},
   "outputs": [],
   "source": [
    "df_features = newDf.drop('gender', axis=1)\n",
    "scaler = StandardScaler()\n",
    "scaler.fit(df_features)\n",
    "scaled_features = scaler.transform(df_features)\n",
    "scaled_data = pd.DataFrame(scaled_features, columns = df_features.columns)"
   ]
  },
  {
   "cell_type": "code",
   "execution_count": 28,
   "id": "898fe7c9-ba4c-4b44-8588-eff295980738",
   "metadata": {},
   "outputs": [],
   "source": [
    "x_train, x_test, y_train, y_test = train_test_split(\n",
    "    scaled_data,\n",
    "    newDf['gender'],\n",
    "    test_size=0.4,\n",
    "    random_state=42\n",
    ")"
   ]
  },
  {
   "cell_type": "code",
   "execution_count": 29,
   "id": "096ca64f-f144-4b8b-a6d5-7efa2344beb0",
   "metadata": {},
   "outputs": [],
   "source": [
    "clf = RandomForestClassifier(n_estimators=100)\n",
    "clf.fit(x_train, y_train)\n",
    "predictions = clf.predict(x_test)"
   ]
  },
  {
   "cell_type": "code",
   "execution_count": 30,
   "id": "56ffb8ab-489c-4aca-85cd-f4dc0eb70ddb",
   "metadata": {},
   "outputs": [
    {
     "name": "stdout",
     "output_type": "stream",
     "text": [
      "              precision    recall  f1-score   support\n",
      "\n",
      "           0       0.44      0.40      0.42        52\n",
      "           1       0.60      0.63      0.61        73\n",
      "\n",
      "    accuracy                           0.54       125\n",
      "   macro avg       0.52      0.52      0.52       125\n",
      "weighted avg       0.53      0.54      0.53       125\n",
      "\n"
     ]
    }
   ],
   "source": [
    "print(classification_report(y_test, predictions))"
   ]
  },
  {
   "cell_type": "code",
   "execution_count": 31,
   "id": "89c406dd-75c0-4e7e-bf1d-100d14806daf",
   "metadata": {},
   "outputs": [
    {
     "name": "stdout",
     "output_type": "stream",
     "text": [
      "[[21 31]\n",
      " [27 46]]\n"
     ]
    }
   ],
   "source": [
    "print(confusion_matrix(y_test, predictions))"
   ]
  },
  {
   "cell_type": "code",
   "execution_count": 20,
   "id": "43190a6a-546a-4344-a9c8-72022023113a",
   "metadata": {},
   "outputs": [
    {
     "data": {
      "text/plain": [
       "False    176\n",
       "True     135\n",
       "Name: gender, dtype: int64"
      ]
     },
     "execution_count": 20,
     "metadata": {},
     "output_type": "execute_result"
    }
   ],
   "source": [
    "(newDf[\"gender\"] == 0).value_counts()"
   ]
  },
  {
   "cell_type": "code",
   "execution_count": 33,
   "id": "19c7caa6-d1d0-417d-89ab-8e3916f9d868",
   "metadata": {},
   "outputs": [],
   "source": [
    "clf = svm.SVC()\n",
    "clf.fit(x_train, y_train)\n",
    "predictions = clf.predict(x_test)"
   ]
  },
  {
   "cell_type": "code",
   "execution_count": 34,
   "id": "176f944e-5a29-4453-b1eb-e3f01c447626",
   "metadata": {},
   "outputs": [
    {
     "name": "stdout",
     "output_type": "stream",
     "text": [
      "              precision    recall  f1-score   support\n",
      "\n",
      "           0       0.42      0.31      0.36        52\n",
      "           1       0.59      0.70      0.64        73\n",
      "\n",
      "    accuracy                           0.54       125\n",
      "   macro avg       0.50      0.50      0.50       125\n",
      "weighted avg       0.52      0.54      0.52       125\n",
      "\n"
     ]
    }
   ],
   "source": [
    "print(classification_report(y_test, predictions))"
   ]
  },
  {
   "cell_type": "code",
   "execution_count": 35,
   "id": "cefbda42-1ac5-48f0-9325-6e371bb50bf3",
   "metadata": {},
   "outputs": [
    {
     "name": "stdout",
     "output_type": "stream",
     "text": [
      "[[16 36]\n",
      " [22 51]]\n"
     ]
    }
   ],
   "source": [
    "print(confusion_matrix(y_test, predictions))"
   ]
  },
  {
   "cell_type": "code",
   "execution_count": null,
   "id": "ddf6f91d-8700-45dd-b707-29d5118a17cc",
   "metadata": {},
   "outputs": [],
   "source": [
    "Видим - модель предсказывает, что сотрудник женщина чуть лучшее чем "
   ]
  }
 ],
 "metadata": {
  "kernelspec": {
   "display_name": "Python 3 (ipykernel)",
   "language": "python",
   "name": "python3"
  },
  "language_info": {
   "codemirror_mode": {
    "name": "ipython",
    "version": 3
   },
   "file_extension": ".py",
   "mimetype": "text/x-python",
   "name": "python",
   "nbconvert_exporter": "python",
   "pygments_lexer": "ipython3",
   "version": "3.10.8"
  }
 },
 "nbformat": 4,
 "nbformat_minor": 5
}
